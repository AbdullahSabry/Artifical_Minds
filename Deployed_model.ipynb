{
 "cells": [
  {
   "cell_type": "code",
   "execution_count": 1,
   "id": "4b724c08",
   "metadata": {},
   "outputs": [],
   "source": [
    "import tensorflow as tf\n",
    "import numpy as np\n",
    "from PIL import Image\n",
    "import pandas as pd\n",
    "import os\n",
    "\n",
    "import matplotlib.pyplot as plt\n",
    "from tensorflow.keras.models import Sequential\n",
    "from tensorflow.keras.layers import Dense, Conv2D, Dropout, Flatten, MaxPooling2D\n",
    "from tensorflow.keras.preprocessing.image import ImageDataGenerator\n",
    "import cv2"
   ]
  },
  {
   "cell_type": "code",
   "execution_count": 2,
   "id": "11f1b537",
   "metadata": {},
   "outputs": [],
   "source": [
    "class multi_layer_conv:\n",
    "    def __init__(self, train_df, valid_df, test_df, batch_size):\n",
    "        self.train_df = train_df\n",
    "        self.valid_df = valid_df\n",
    "        self.test_df = test_df\n",
    "        self.batch_size = batch_size\n",
    "        self.model = Sequential()\n",
    "        \n",
    "    \n",
    "    def choose(self, item, learning_rate = 0.001):\n",
    "        if item == \"gradient\":\n",
    "            return tf.keras.optimizers.SGD(learning_rate = learning_rate)\n",
    "        elif item == 'adam':\n",
    "            return 'adam'\n",
    "        elif item == 'binary_crossentropy':\n",
    "            return 'binary_crossentropy'\n",
    "        elif item == 'mean_squared_error':\n",
    "            return tf.keras.losses.MeanSquaredError()\n",
    "\n",
    "    def build_model(self, optimizer, loss, learning_rate = 0.001):\n",
    "        self.model = Sequential([\n",
    "            Conv2D(4, (5,5), padding = 'valid', input_shape = (28, 28, 1)),\n",
    "            MaxPooling2D(),\n",
    "            \n",
    "            #Conv2D(32, (5,5), padding = 'valid'),\n",
    "            #MaxPooling2D(),\n",
    "            \n",
    "            Conv2D(64, (3,3), padding = 'valid'),\n",
    "            MaxPooling2D(),\n",
    "            \n",
    "            #Conv2D(128, (3,3), padding = 'valid'),\n",
    "            #MaxPooling2D(),\n",
    "            \n",
    "            \n",
    "            Flatten(),\n",
    "            Dense(512, activation = 'relu'),\n",
    "            Dense(128, activation = 'relu'),\n",
    "    \n",
    "            Dense(10, activation = 'softmax')\n",
    "        ])\n",
    "        \n",
    "        self.model.summary()\n",
    "        self.model.compile(optimizer = self.choose(optimizer, learning_rate),\n",
    "                     loss = self.choose(loss),\n",
    "                     metrics = [tf.keras.metrics.MeanSquaredError(), 'accuracy'])\n",
    "        \n",
    "    "
   ]
  },
  {
   "cell_type": "code",
   "execution_count": 3,
   "id": "c3080710",
   "metadata": {},
   "outputs": [
    {
     "name": "stdout",
     "output_type": "stream",
     "text": [
      "Model: \"sequential_1\"\n",
      "_________________________________________________________________\n",
      " Layer (type)                Output Shape              Param #   \n",
      "=================================================================\n",
      " conv2d (Conv2D)             (None, 24, 24, 4)         104       \n",
      "                                                                 \n",
      " max_pooling2d (MaxPooling2D  (None, 12, 12, 4)        0         \n",
      " )                                                               \n",
      "                                                                 \n",
      " conv2d_1 (Conv2D)           (None, 10, 10, 64)        2368      \n",
      "                                                                 \n",
      " max_pooling2d_1 (MaxPooling  (None, 5, 5, 64)         0         \n",
      " 2D)                                                             \n",
      "                                                                 \n",
      " flatten (Flatten)           (None, 1600)              0         \n",
      "                                                                 \n",
      " dense (Dense)               (None, 512)               819712    \n",
      "                                                                 \n",
      " dense_1 (Dense)             (None, 128)               65664     \n",
      "                                                                 \n",
      " dense_2 (Dense)             (None, 10)                1290      \n",
      "                                                                 \n",
      "=================================================================\n",
      "Total params: 889,138\n",
      "Trainable params: 889,138\n",
      "Non-trainable params: 0\n",
      "_________________________________________________________________\n"
     ]
    },
    {
     "data": {
      "text/plain": [
       "<tensorflow.python.training.tracking.util.CheckpointLoadStatus at 0x2668c7da130>"
      ]
     },
     "execution_count": 3,
     "metadata": {},
     "output_type": "execute_result"
    }
   ],
   "source": [
    "model = multi_layer_conv(\"dataset/250000_Final\", \"dataset/250000_Final\", \"dataset/250000_Final\", 32)\n",
    "model.build_model(\"adam\", \"binary_crossentropy\", 0.00316)\n",
    "model.model.load_weights(\"dataset/checkpoints/MNIST\")"
   ]
  },
  {
   "cell_type": "code",
   "execution_count": 76,
   "id": "9d9c8ade",
   "metadata": {},
   "outputs": [
    {
     "name": "stdout",
     "output_type": "stream",
     "text": [
      "4\n"
     ]
    },
    {
     "data": {
      "image/png": "[encoded data removed]",
      "text/plain": [
       "<Figure size 432x288 with 1 Axes>"
      ]
     },
     "metadata": {
      "needs_background": "light"
     },
     "output_type": "display_data"
    }
   ],
   "source": [
    "pic = cv2.imread(\"test/4.jpeg\")\n",
    "#plt.imshow(pic)\n",
    "pic = cv2.resize(pic, [28, 28])\n",
    "pic = cv2.cvtColor(pic, cv2.COLOR_BGR2GRAY)\n",
    "pic = cv2.bitwise_not(pic)\n",
    "plt.imshow(pic)\n",
    "#pic = (pic - np.min(pic)) / (np.max(pic) - np.min(pic))\n",
    "pic = cv2.normalize(pic, None, alpha=0, beta=1, norm_type=cv2.NORM_MINMAX, dtype=cv2.CV_32F)\n",
    "#pic = cv2.bitwise_not(pic)\n",
    "#gray = np.invert(pic)\n",
    "#gray = np.asarray(gray).astype(np.float32)\n",
    "#gray -= np.min(gray)\n",
    "#pic = gray/np.max(gray)\n",
    "#pic = cv2.bitwise_not(pic)\n",
    "#(thresh, im_bw) = cv2.threshold(pic, 128, 255, cv2.THRESH_BINARY | cv2.THRESH_OTSU)\n",
    "#thresh = 127\n",
    "#pic = cv2.threshold(pic, thresh, 255, cv2.THRESH_BINARY)[1]\n",
    "#plt.imshow(pic)\n",
    "pic = np.asarray([pic]).astype(np.float32)\n",
    "print(np.argmax(model.model.predict(pic)))\n"
   ]
  },
  {
   "cell_type": "markdown",
   "id": "3d359dd3",
   "metadata": {},
   "source": [
    "# Detection In Real Time"
   ]
  },
  {
   "cell_type": "code",
   "execution_count": 79,
   "id": "2433d36d",
   "metadata": {},
   "outputs": [],
   "source": [
    "vid = cv2.VideoCapture(0)\n",
    "  \n",
    "while(True):\n",
    "\n",
    "    # Capture the video frame\n",
    "    # by frame\n",
    "    ret, frame = vid.read()\n",
    "    mid_y = frame.shape[0]/2\n",
    "    mid_x = frame.shape[1]/2\n",
    "    delta = 28/2\n",
    "    start_point = (int(mid_x-delta), int(mid_y-delta))\n",
    "    end_point = (int(mid_x + delta), int(mid_y + delta))\n",
    "    new_frame = cv2.rectangle(frame, end_point, start_point, (255, 0, 0), 2)\n",
    "    pic = new_frame[start_point[1]:end_point[1], start_point[0]:end_point[0]]\n",
    "    #pic = cv2.flip(pic, 1)\n",
    "    \n",
    "    gray = cv2.cvtColor(pic, cv2.COLOR_BGR2GRAY)\n",
    "    gray = cv2.bitwise_not(gray)\n",
    "    #gray = (gray - np.min(gray)) / (np.max(gray) - np.min(gray))\n",
    "    gray = cv2.normalize(gray, None, alpha=0, beta=1, norm_type=cv2.NORM_MINMAX, dtype=cv2.CV_32F)\n",
    "    new_gray = np.asarray([gray]).astype(np.float32)\n",
    "    prediction = model.model.predict(new_gray)\n",
    "    index = np.argmax(prediction)\n",
    "    cv2.putText(new_frame, str(index), (int(delta), int(mid_y - 2*delta)), cv2.FONT_HERSHEY_SIMPLEX, 1, (255,0,255))\n",
    "   \n",
    "    # Display the resulting frame\n",
    "    cv2.imshow('Prediction', new_frame)\n",
    "    \n",
    "\n",
    "    # the 'q' button is set as the\n",
    "    # quitting button you may use any\n",
    "    # desired button of your choice\n",
    "    if cv2.waitKey(1) & 0xFF == ord('q'):\n",
    "        break\n",
    "  \n",
    "vid.release()\n",
    "# Destroy all the windows\n",
    "cv2.destroyAllWindows()"
   ]
  },
  {
   "cell_type": "code",
   "execution_count": null,
   "id": "f3d3ebef",
   "metadata": {},
   "outputs": [],
   "source": []
  }
 ],
 "metadata": {
  "kernelspec": {
   "display_name": "Python 3",
   "language": "python",
   "name": "python3"
  },
  "language_info": {
   "codemirror_mode": {
    "name": "ipython",
    "version": 3
   },
   "file_extension": ".py",
   "mimetype": "text/x-python",
   "name": "python",
   "nbconvert_exporter": "python",
   "pygments_lexer": "ipython3",
   "version": "3.8.8"
  }
 },
 "nbformat": 4,
 "nbformat_minor": 5
}
