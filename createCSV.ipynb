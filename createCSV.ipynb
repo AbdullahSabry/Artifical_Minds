{
 "cells": [
  {
   "cell_type": "code",
   "execution_count": 1,
   "id": "248f1b85",
   "metadata": {},
   "outputs": [],
   "source": [
    "import numpy as np\n",
    "import tensorflow as tf\n",
    "import os\n",
    "from PIL import Image\n",
    "import pandas as pd"
   ]
  },
  {
   "cell_type": "code",
   "execution_count": 3,
   "id": "8fa1d1ea",
   "metadata": {},
   "outputs": [
    {
     "name": "stdout",
     "output_type": "stream",
     "text": [
      "['0', '1', '2', '3', '4', '5', '6', '7', '8', '9']\n"
     ]
    }
   ],
   "source": [
    "labels = os.listdir(train_dir)\n",
    "print(labels)"
   ]
  },
  {
   "cell_type": "code",
   "execution_count": 4,
   "id": "962e556b",
   "metadata": {},
   "outputs": [],
   "source": [
    "class data:\n",
    "    def __init__(self, directory, batch_size):\n",
    "        self.dir = directory\n",
    "        self.labels = os.listdir(directory)\n",
    "        self.img_names = [os.listdir(directory + \"/\" + str(label)) for label in labels]\n",
    "        self.batch_size = batch_size\n",
    "        self.image_df = self.get_img_df()\n",
    "        \n",
    "    def get_img_batch(self, i):\n",
    "        return Image.open(self.dir + \"/\" +str(label) + \"/img_\" +str(i)+\".jpg\")\\\n",
    "    \n",
    "    def get_categorical(i, num_cat):\n",
    "        lst = []\n",
    "        for k in range(num_cat):\n",
    "            if i == k:\n",
    "                lst.append(1)\n",
    "            else:\n",
    "                lst.append(0)\n",
    "        return lst\n",
    "    \n",
    "    def get_img_df(self):\n",
    "        df = pd.DataFrame(columns = [\"filename\", \"label\", \"directory\", \"width\", \"height\"])\n",
    "        for label in self.labels:\n",
    "            i = self.labels.index(label)\n",
    "            for j in range(len(self.img_names[i])):\n",
    "                filename = self.img_names[i][j]\n",
    "                directory = self.dir + \"/\" + str(label) + \"/\" + filename\n",
    "                width, height = Image.open(directory).size\n",
    "                df.loc[len(df)] = [filename, label, directory, width, height]\n",
    "                print(len(df))\n",
    "        return df\n",
    "    "
   ]
  },
  {
   "cell_type": "code",
   "execution_count": 5,
   "id": "d8d505a9",
   "metadata": {},
   "outputs": [],
   "source": [
    "img = data(train_dir, 32)"
   ]
  },
  {
   "cell_type": "code",
   "execution_count": 10,
   "id": "0ac7bc95",
   "metadata": {},
   "outputs": [],
   "source": [
    "img.image_df.to_csv(\"dataset/train.csv\")"
   ]
  },
  {
   "cell_type": "code",
   "execution_count": 15,
   "id": "eead2156",
   "metadata": {},
   "outputs": [
    {
     "data": {
      "text/html": [
       "<div>\n",
       "<style scoped>\n",
       "    .dataframe tbody tr th:only-of-type {\n",
       "        vertical-align: middle;\n",
       "    }\n",
       "\n",
       "    .dataframe tbody tr th {\n",
       "        vertical-align: top;\n",
       "    }\n",
       "\n",
       "    .dataframe thead th {\n",
       "        text-align: right;\n",
       "    }\n",
       "</style>\n",
       "<table border=\"1\" class=\"dataframe\">\n",
       "  <thead>\n",
       "    <tr style=\"text-align: right;\">\n",
       "      <th></th>\n",
       "      <th>filename</th>\n",
       "      <th>label</th>\n",
       "      <th>directory</th>\n",
       "      <th>width</th>\n",
       "      <th>height</th>\n",
       "    </tr>\n",
       "  </thead>\n",
       "  <tbody>\n",
       "    <tr>\n",
       "      <th>0</th>\n",
       "      <td>img_1.jpg</td>\n",
       "      <td>0</td>\n",
       "      <td>dataset/trainingSet/trainingSet/0/img_1.jpg</td>\n",
       "      <td>28</td>\n",
       "      <td>28</td>\n",
       "    </tr>\n",
       "    <tr>\n",
       "      <th>1</th>\n",
       "      <td>img_10007.jpg</td>\n",
       "      <td>0</td>\n",
       "      <td>dataset/trainingSet/trainingSet/0/img_10007.jpg</td>\n",
       "      <td>28</td>\n",
       "      <td>28</td>\n",
       "    </tr>\n",
       "    <tr>\n",
       "      <th>2</th>\n",
       "      <td>img_10010.jpg</td>\n",
       "      <td>0</td>\n",
       "      <td>dataset/trainingSet/trainingSet/0/img_10010.jpg</td>\n",
       "      <td>28</td>\n",
       "      <td>28</td>\n",
       "    </tr>\n",
       "    <tr>\n",
       "      <th>3</th>\n",
       "      <td>img_10017.jpg</td>\n",
       "      <td>0</td>\n",
       "      <td>dataset/trainingSet/trainingSet/0/img_10017.jpg</td>\n",
       "      <td>28</td>\n",
       "      <td>28</td>\n",
       "    </tr>\n",
       "    <tr>\n",
       "      <th>4</th>\n",
       "      <td>img_10032.jpg</td>\n",
       "      <td>0</td>\n",
       "      <td>dataset/trainingSet/trainingSet/0/img_10032.jpg</td>\n",
       "      <td>28</td>\n",
       "      <td>28</td>\n",
       "    </tr>\n",
       "  </tbody>\n",
       "</table>\n",
       "</div>"
      ],
      "text/plain": [
       "        filename label                                        directory width  \\\n",
       "0      img_1.jpg     0      dataset/trainingSet/trainingSet/0/img_1.jpg    28   \n",
       "1  img_10007.jpg     0  dataset/trainingSet/trainingSet/0/img_10007.jpg    28   \n",
       "2  img_10010.jpg     0  dataset/trainingSet/trainingSet/0/img_10010.jpg    28   \n",
       "3  img_10017.jpg     0  dataset/trainingSet/trainingSet/0/img_10017.jpg    28   \n",
       "4  img_10032.jpg     0  dataset/trainingSet/trainingSet/0/img_10032.jpg    28   \n",
       "\n",
       "  height  \n",
       "0     28  \n",
       "1     28  \n",
       "2     28  \n",
       "3     28  \n",
       "4     28  "
      ]
     },
     "execution_count": 15,
     "metadata": {},
     "output_type": "execute_result"
    }
   ],
   "source": [
    "img.image_df.head()"
   ]
  },
  {
   "cell_type": "code",
   "execution_count": null,
   "id": "ac693ada",
   "metadata": {},
   "outputs": [],
   "source": []
  }
 ],
 "metadata": {
  "kernelspec": {
   "display_name": "Python 3",
   "language": "python",
   "name": "python3"
  },
  "language_info": {
   "codemirror_mode": {
    "name": "ipython",
    "version": 3
   },
   "file_extension": ".py",
   "mimetype": "text/x-python",
   "name": "python",
   "nbconvert_exporter": "python",
   "pygments_lexer": "ipython3",
   "version": "3.8.8"
  }
 },
 "nbformat": 4,
 "nbformat_minor": 5
}
